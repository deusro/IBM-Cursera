{
    "cells": [
        {
            "cell_type": "markdown",
            "metadata": {
                "collapsed": true
            },
            "source": "# Data Science Tools and Ecosystem"
        },
        {
            "cell_type": "markdown",
            "metadata": {},
            "source": "# Data Science Tools and Ecosystem"
        },
        {
            "cell_type": "markdown",
            "metadata": {},
            "source": "## In this notebook, Data Science Tools and Ecosystem are summarized."
        },
        {
            "cell_type": "markdown",
            "metadata": {},
            "source": "## In this notebook, Data Science Tools and Ecosystem are summarized."
        },
        {
            "cell_type": "markdown",
            "metadata": {},
            "source": "**Objectives:**\n- Python\n- R\n- SQL\n- Julia"
        },
        {
            "cell_type": "markdown",
            "metadata": {},
            "source": "**Objectives:**\n- Python\n- R\n- SQL\n- Julia"
        },
        {
            "cell_type": "markdown",
            "metadata": {},
            "source": "Some of the popular languages that Data Scientists use are:\n1. python\n2. julia\n3. R\n"
        },
        {
            "cell_type": "markdown",
            "metadata": {},
            "source": "Some of the popular languages that Data Scientists use are:\n1. python\n2. julia\n3. R\n"
        },
        {
            "cell_type": "markdown",
            "metadata": {},
            "source": "Some of the commonly used libraries used by Data Scientists include:\n1. pandas\n2. Numpy\n3. dplyr\n4. Matplotlib"
        },
        {
            "cell_type": "markdown",
            "metadata": {},
            "source": "Some of the commonly used libraries used by Data Scientists include:\n1. pandas\n2. Numpy\n3. dplyr\n4. Matplotlib"
        },
        {
            "cell_type": "markdown",
            "metadata": {},
            "source": "| Data Science Tools|\n| ------------- |\n| RStudio       |\n| Apache Spark  |\n| TensorFlow    |\n"
        },
        {
            "cell_type": "markdown",
            "metadata": {},
            "source": "| Data Science Tools     |\n| ------------- |\n| RStudio       |\n| Apache Spark  |\n| TensorFlow    |\n"
        },
        {
            "cell_type": "markdown",
            "metadata": {},
            "source": "### Below are a few examples of evaluating arithmetic expressions in Python"
        },
        {
            "cell_type": "markdown",
            "metadata": {},
            "source": "### Below are a few examples of evaluating arithmetic expressions in Python"
        },
        {
            "cell_type": "code",
            "execution_count": 6,
            "metadata": {},
            "outputs": [
                {
                    "name": "stdout",
                    "output_type": "stream",
                    "text": "17\n"
                }
            ],
            "source": "\"\"\" This a simple arithmetic expression to mutiply then add integers\"\"\" \na = (3*4)+5   \nprint(a)"
        },
        {
            "cell_type": "code",
            "execution_count": 11,
            "metadata": {},
            "outputs": [
                {
                    "name": "stdout",
                    "output_type": "stream",
                    "text": "3.3333333333333335\n"
                }
            ],
            "source": "\"\"\"This will convert 200 minutes to hours by diving by 60\"\"\"\nhour = 200/60\nprint(hour)"
        },
        {
            "cell_type": "markdown",
            "metadata": {},
            "source": "**Author**\n- Rodrigo Tenorio Ramirez"
        },
        {
            "cell_type": "markdown",
            "metadata": {},
            "source": "**Author**\n- Rodrigo Tenorio Ramirez"
        }
    ],
    "metadata": {
        "kernelspec": {
            "display_name": "Python 3.10",
            "language": "python",
            "name": "python3"
        },
        "language_info": {
            "codemirror_mode": {
                "name": "ipython",
                "version": 3
            },
            "file_extension": ".py",
            "mimetype": "text/x-python",
            "name": "python",
            "nbconvert_exporter": "python",
            "pygments_lexer": "ipython3",
            "version": "3.10.9"
        }
    },
    "nbformat": 4,
    "nbformat_minor": 1
}